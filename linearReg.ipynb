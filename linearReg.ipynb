{
 "cells": [
  {
   "cell_type": "code",
   "execution_count": 161,
   "metadata": {},
   "outputs": [],
   "source": [
    "%matplotlib inline\n",
    "\n",
    "import re\n",
    "import pandas as pd\n",
    "import matplotlib.pyplot as plt\n",
    "import sklearn\n",
    "from sklearn.model_selection import train_test_split\n",
    "from sklearn.linear_model import LinearRegression\n",
    "from sklearn.metrics import mean_absolute_error"
   ]
  },
  {
   "cell_type": "code",
   "execution_count": 162,
   "metadata": {
    "scrolled": true
   },
   "outputs": [],
   "source": [
    "data = pd.read_csv('train.csv')"
   ]
  },
  {
   "cell_type": "code",
   "execution_count": 176,
   "metadata": {},
   "outputs": [],
   "source": [
    "regions = list(set(data[\"Район\"].tolist()))\n",
    "for col, row in data.iterrows():\n",
    "    if regions.index(row[\"Район\"]) == 0:\n",
    "        continue\n",
    "    data.at[col, \"Район\"] = regions.index(row[\"Район\"])"
   ]
  },
  {
   "cell_type": "code",
   "execution_count": 165,
   "metadata": {},
   "outputs": [],
   "source": [
    "data_prepared = data.copy(True)\n",
    "\n",
    "data_prepared.loc[data_prepared['Тип ціни'] == 'грн', 'Ціна'] /= 28.1\n",
    "data_prepared.loc[data_prepared['Тип ціни'] == '€', 'Ціна'] /= 0.88\n",
    "\n",
    "for col in ['Загальна площа', 'Житлова площа', 'Кімнат']:\n",
    "    data_prepared[col] = data_prepared[col].fillna(0)\n",
    "    data_prepared[col] = pd.to_numeric(data_prepared[col].apply(lambda x: re.sub(',', '.', str(x))))\n",
    "    data_prepared.loc[data[col] == 0, col] = data_prepared.loc[data[col] != 0, col].mean(skipna=True)"
   ]
  },
  {
   "cell_type": "code",
   "execution_count": 166,
   "metadata": {},
   "outputs": [],
   "source": [
    "x1 = data_prepared[['Загальна площа', 'Житлова площа', 'Кімнат']]\n",
    "\n",
    "y = data_prepared['Ціна']"
   ]
  },
  {
   "cell_type": "code",
   "execution_count": 167,
   "metadata": {},
   "outputs": [
    {
     "data": {
      "text/plain": [
       "LinearRegression(copy_X=True, fit_intercept=True, n_jobs=1, normalize=False)"
      ]
     },
     "execution_count": 167,
     "metadata": {},
     "output_type": "execute_result"
    }
   ],
   "source": [
    "lr = LinearRegression()\n",
    "lr.fit(x1, y)"
   ]
  },
  {
   "cell_type": "code",
   "execution_count": 168,
   "metadata": {},
   "outputs": [],
   "source": [
    "test = pd.read_csv('test.csv')\n",
    "\n",
    "regions = list(set(test[\"Район\"].tolist()))\n",
    "for col, row in test.iterrows():\n",
    "    if regions.index(row[\"Район\"]) == 0:\n",
    "        continue\n",
    "    test.at[col, \"Район\"] = regions.index(row[\"Район\"])"
   ]
  },
  {
   "cell_type": "code",
   "execution_count": 169,
   "metadata": {},
   "outputs": [],
   "source": [
    "for col in ['Загальна площа', 'Житлова площа', 'Кімнат']:\n",
    "    test[col] = test[col].fillna(0)\n",
    "    test[col] = pd.to_numeric(test[col].apply(lambda x: re.sub(',', '.', str(x))))\n",
    "    test.loc[test[col] == 0, col] = test.loc[test[col] != 0, col].mean(skipna=True)"
   ]
  },
  {
   "cell_type": "code",
   "execution_count": 170,
   "metadata": {},
   "outputs": [],
   "source": [
    "x_test = test[['Загальна площа', 'Житлова площа', 'Кімнат']]\n",
    "\n",
    "result = pd.DataFrame(columns=['Ціна'])\n",
    "result['Ціна'] = lr.predict(x_test)"
   ]
  },
  {
   "cell_type": "code",
   "execution_count": 171,
   "metadata": {},
   "outputs": [],
   "source": [
    "result['Тип ціни'] = test['Тип ціни']\n",
    "\n",
    "result.loc[result['Тип ціни'] == 'грн', 'Ціна'] *= 28.1\n",
    "result.loc[result['Тип ціни'] == '€', 'Ціна'] *= 0.88\n",
    "\n",
    "result = result['Ціна']"
   ]
  },
  {
   "cell_type": "code",
   "execution_count": 172,
   "metadata": {},
   "outputs": [],
   "source": [
    "result.to_csv('submission.csv', sep=',')"
   ]
  },
  {
   "cell_type": "code",
   "execution_count": null,
   "metadata": {},
   "outputs": [],
   "source": []
  }
 ],
 "metadata": {
  "kernelspec": {
   "display_name": "Python 3",
   "language": "python",
   "name": "python3"
  },
  "language_info": {
   "codemirror_mode": {
    "name": "ipython",
    "version": 3
   },
   "file_extension": ".py",
   "mimetype": "text/x-python",
   "name": "python",
   "nbconvert_exporter": "python",
   "pygments_lexer": "ipython3",
   "version": "3.6.8"
  }
 },
 "nbformat": 4,
 "nbformat_minor": 2
}
